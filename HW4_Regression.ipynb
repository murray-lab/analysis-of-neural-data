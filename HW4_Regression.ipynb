{
 "cells": [
  {
   "cell_type": "code",
   "execution_count": 1,
   "metadata": {},
   "outputs": [],
   "source": [
    "import numpy as np\n",
    "import matplotlib.pyplot as plt"
   ]
  },
  {
   "cell_type": "markdown",
   "metadata": {},
   "source": [
    "In this homework assignment, we'll learn about several things related to linear regression. First, we'll use simulated data to illustrate how to compute a p-value to assess whether there is a linear relationship between two variables. After this, we'll download some data from mouse experiments and use linear regression to relate neural activity from different brain areas to the speed at which the mouse is turning a wheel. We'll illustrate the danger of overfitting with high-dimensional models and how it can be overcome using regularization and cross-validation."
   ]
  },
  {
   "cell_type": "markdown",
   "metadata": {},
   "source": [
    "# Linear regression with simulated data: evidence of a linear relationship\n",
    "\n",
    "When we do linear regression to relate two sets of data $x$ and $y$, we can think of this as testing whether there is a significant linear relationship between the two variables. Thus, we want to test the null hypothesis $H_0$: that there is *no* linear relationship between $x$ and $y$. As we learned in class, the proper way to do this is to ask, assuming $H_0$ is true, how unlikely we would be to get the data that we have. This probability is the $p$-value, and, if it is sufficiently small, we can reject the null hypothesis and conclude that there *is* a significant linear relationship between $x$ and $y$.\n",
    "\n",
    "In practice, scientists almost always use built-in methods from statistical software (like NumPy and SciPy) to calculate these $p$-values. We will do this below. In order to understand where the result comes from, though, we'll also compute a $p$-value for a regression problem by hand using a simulated dataset in addition to applying the built-in method below."
   ]
  },
  {
   "cell_type": "markdown",
   "metadata": {},
   "source": [
    "First let's create some simulated data and plot it."
   ]
  },
  {
   "cell_type": "code",
   "execution_count": 2,
   "metadata": {},
   "outputs": [
    {
     "data": {
      "text/plain": [
       "Text(0, 0.5, 'y')"
      ]
     },
     "execution_count": 2,
     "metadata": {},
     "output_type": "execute_result"
    },
    {
     "data": {
      "image/png": "[encoded data removed]",
      "text/plain": [
       "<Figure size 432x288 with 1 Axes>"
      ]
     },
     "metadata": {
      "needs_background": "light"
     },
     "output_type": "display_data"
    }
   ],
   "source": [
    "n = 20  # number of data points\n",
    "\n",
    "# The true intercept and slope for the data if noise isn't present:\n",
    "alpha_true = 0.5\n",
    "beta_true = 1.5\n",
    "\n",
    "# Simulated data:\n",
    "x_data = np.random.rand(n)\n",
    "noise_amp = 0.9\n",
    "noise = noise_amp*np.random.randn(n)\n",
    "y_data = alpha_true + beta_true*x_data + noise\n",
    "\n",
    "plt.plot(x_data, y_data, 'o')\n",
    "plt.xlabel('x')\n",
    "plt.ylabel('y')"
   ]
  },
  {
   "cell_type": "markdown",
   "metadata": {},
   "source": [
    "In an earlier homework assinment, we learned how to use `np.polyfit()` to compute a linear fit to data like this. Here we will use a more sophisticated function called `linregress()` for doing linear regression. This gives the same result as `np.polyfit()`, and, in addition, lets us compute a $p$-value."
   ]
  },
  {
   "cell_type": "code",
   "execution_count": 3,
   "metadata": {},
   "outputs": [
    {
     "name": "stdout",
     "output_type": "stream",
     "text": [
      "beta:  1.4417559766478736\n",
      "alpha:  0.8928129702379027\n",
      "r-squared:  0.2768921911272771\n",
      "p-value:  0.01715816675545002\n"
     ]
    }
   ],
   "source": [
    "from scipy import stats\n",
    "\n",
    "fit = stats.linregress(x_data, y_data)\n",
    "\n",
    "beta = fit.slope\n",
    "alpha = fit.intercept\n",
    "print('beta: ', beta)\n",
    "print('alpha: ', alpha)\n",
    "print('r-squared: ', fit.rvalue**2)\n",
    "print('p-value: ', fit.pvalue)"
   ]
  },
  {
   "cell_type": "markdown",
   "metadata": {},
   "source": [
    "Plot the resulting fit."
   ]
  },
  {
   "cell_type": "code",
   "execution_count": 4,
   "metadata": {},
   "outputs": [
    {
     "data": {
      "text/plain": [
       "Text(0, 0.5, 'y')"
      ]
     },
     "execution_count": 4,
     "metadata": {},
     "output_type": "execute_result"
    },
    {
     "data": {
      "image/png": "[encoded data removed]",
      "text/plain": [
       "<Figure size 432x288 with 1 Axes>"
      ]
     },
     "metadata": {
      "needs_background": "light"
     },
     "output_type": "display_data"
    }
   ],
   "source": [
    "plt.plot(x_data, y_data, 'o')\n",
    "x_pts = np.arange(0,1,0.01)\n",
    "y_pred = alpha + beta*x_pts\n",
    "plt.plot(x_pts, y_pred)\n",
    "plt.xlabel('x')\n",
    "plt.ylabel('y')"
   ]
  },
  {
   "cell_type": "markdown",
   "metadata": {},
   "source": [
    "How can we compute this $p$-value ourselves? Our null hypothesis is that the data is described by a linear fit with zero slope and the same mean as the original data, i.e. $y = \\alpha_0$ (the subscript just reminds us that this is part of the null hypothesis $H_0$). In the following three exercises, we will test how unlikely the slope that we got above would be if the null hypothesis were true."
   ]
  },
  {
   "cell_type": "markdown",
   "metadata": {},
   "source": [
    "**Exercise 1 (calculation)**\n",
    "\n",
    "Under the null hypothesis, the fitting function for the data is $g(x) = \\alpha_0$. Show that the value of $\\alpha_0$ that minimizes the mean-squared error,\n",
    "$$\n",
    "L = \\frac{1}{2n} \\sum_{i=1}^n (y_i - g(x_i))^2,\n",
    "$$\n",
    "is just the average of the data, i.e. $\\alpha_0 = \\frac{1}{n} \\sum_i y_i$."
   ]
  },
  {
   "cell_type": "markdown",
   "metadata": {},
   "source": [
    "  "
   ]
  },
  {
   "cell_type": "markdown",
   "metadata": {},
   "source": [
    "**Exercise 2**\n",
    "\n",
    "Use the same $x$ data points as before, and create $n$ new $y$ data points from the null-hypothesis model, i.e. like the original data we created, but with intercept $\\alpha_0$ given by the expression above and slope equal to zero. Even though the data was generated from a model with zero slope, a linear fit probably won't give a value of $\\beta$ exactly equal to zero. Perform a linear fit, print the values of $\\beta$ and $\\alpha$ found by the fit, and plot the fit line along with the null-hypothesis data."
   ]
  },
  {
   "cell_type": "code",
   "execution_count": 5,
   "metadata": {},
   "outputs": [],
   "source": [
    "### Your code here ###"
   ]
  },
  {
   "cell_type": "markdown",
   "metadata": {},
   "source": [
    "**Exercise 3**\n",
    "\n",
    "Make a for loop to generate data (each time with different noise) and perform a fit 10000 times. Print the fraction of iterations in which the slope found by the fit to the null-hypothesis data has a slope with magnitude (i.e. regardless of the sign of the slope) greater than or equal to the slope found for the first regression we did on the original data. This fraction is our $p$-value, and it should agree to within a factor of two or so with the value found in the first fit we did above."
   ]
  },
  {
   "cell_type": "code",
   "execution_count": 6,
   "metadata": {},
   "outputs": [],
   "source": [
    "### Your code here ###"
   ]
  },
  {
   "cell_type": "markdown",
   "metadata": {},
   "source": [
    "# Load data from Steinmetz experiments\n",
    "\n",
    "For the rest of this assignment, we'll use some data from mouse experiments performed by Nick Steinmetz and colleagues and described in the paper here: https://www.nature.com/articles/s41586-019-1787-x.\n",
    "\n",
    "This data was used as part of the Neuromatch Academy 2020 online summer school and has a nice video explaining it here: https://www.youtube.com/watch?v=WXn4-FpVaOo.\n",
    "\n",
    "To summarize briefly, spiking activity from neurons in many brain regions was recorded in mice performing a decision-making task. In the task, visual gratings appeared on the left and right side before a head-fixed mouse, and the mouse had a turn a steering wheel toward the grating with higher contrast in order to obtain a reward."
   ]
  },
  {
   "cell_type": "code",
   "execution_count": 7,
   "metadata": {},
   "outputs": [],
   "source": [
    "# Retrieve the data from online and save it to local .npz files.\n",
    "\n",
    "import os, requests\n",
    "\n",
    "fname = []\n",
    "for j in range(3):\n",
    "    fname.append('steinmetz_part%d.npz'%j)\n",
    "url = [\"https://osf.io/agvxh/download\"]\n",
    "url.append(\"https://osf.io/uv3mw/download\")\n",
    "url.append(\"https://osf.io/ehmw2/download\")\n",
    "\n",
    "for j in range(len(url)):\n",
    "    if not os.path.isfile(fname[j]):\n",
    "        try:\n",
    "            r = requests.get(url[j])\n",
    "        except requests.ConnectionError:\n",
    "            print(\"!!! Failed to download data !!!\")\n",
    "        else:\n",
    "            if r.status_code != requests.codes.ok:\n",
    "                print(\"!!! Failed to download data !!!\")\n",
    "            else:\n",
    "                with open(fname[j], \"wb\") as fid:\n",
    "                    fid.write(r.content)\n"
   ]
  },
  {
   "cell_type": "code",
   "execution_count": 8,
   "metadata": {},
   "outputs": [
    {
     "name": "stdout",
     "output_type": "stream",
     "text": [
      "dict_keys(['spks', 'wheel', 'pupil', 'response', 'response_time', 'bin_size', 'stim_onset', 'contrast_right', 'contrast_left', 'brain_area', 'feedback_time', 'feedback_type', 'gocue', 'mouse_name', 'date_exp', 'trough_to_peak', 'active_trials', 'contrast_left_passive', 'contrast_right_passive', 'spks_passive', 'pupil_passive', 'wheel_passive', 'prev_reward', 'ccf', 'ccf_axes', 'cellid_orig', 'reaction_time', 'face', 'face_passive', 'licks', 'licks_passive'])\n"
     ]
    }
   ],
   "source": [
    "# Load all of the data into one big array\n",
    "\n",
    "alldat = np.array([])\n",
    "for j in range(len(fname)):\n",
    "    alldat = np.hstack((alldat, np.load('steinmetz_part%d.npz'%j, allow_pickle=True)['dat']))\n",
    "\n",
    "# Select just one session of the recordings here:\n",
    "dat = alldat[0]\n",
    "\n",
    "# Each element of alldat is a Python dictionary with keys describing the different types of data:\n",
    "print(dat.keys())\n"
   ]
  },
  {
   "cell_type": "markdown",
   "metadata": {},
   "source": [
    "`alldat` contains 39 sessions from 10 mice, data from Steinmetz et al, 2019. Time bins for all measurements are 10ms, starting 500ms before stimulus onset. The mouse had to determine which side has the highest contrast. For each `dat = alldat[k]`, you have the fields below. For extra variables, check out the extra notebook and extra data files (lfp, waveforms and exact spike times, non-binned). \n",
    "\n",
    "* `dat['mouse_name']`: mouse name\n",
    "* `dat['date_exp']`: when a session was performed\n",
    "* `dat['spks']`: neurons by trials by time bins.    \n",
    "* `dat['brain_area']`: brain area for each neuron recorded. \n",
    "* `dat['ccf']`: Allen Institute brain atlas coordinates for each neuron. \n",
    "* `dat['ccf_axes']`: axes names for the Allen CCF. \n",
    "* `dat['contrast_right']`: contrast level for the right stimulus, which is always contralateral to the recorded brain areas.\n",
    "* `dat['contrast_left']`: contrast level for left stimulus. \n",
    "* `dat['gocue']`: when the go cue sound was played. \n",
    "* `dat['response_time']`: when the response was registered, which has to be after the go cue. The mouse can turn the wheel before the go cue (and nearly always does!), but the stimulus on the screen won't move before the go cue.  \n",
    "* `dat['response']`: which side the response was (`-1`, `0`, `1`). When the right-side stimulus had higher contrast, the correct choice was `-1`. `0` is a no go response. \n",
    "* `dat['feedback_time']`: when feedback was provided. \n",
    "* `dat['feedback_type']`: if the feedback was positive (`+1`, reward) or negative (`-1`, white noise burst).  \n",
    "* `dat['wheel']`: turning speed of the wheel that the mice uses to make a response, sampled at `10ms`. \n",
    "* `dat['pupil']`: pupil area  (noisy, because pupil is very small) + pupil horizontal and vertical position.\n",
    "* `dat['face']`: average face motion energy from a video camera. \n",
    "* `dat['licks']`: lick detections, 0 or 1.   \n",
    "* `dat['trough_to_peak']`: measures the width of the action potential waveform for each neuron. Widths `<=10` samples are \"putative fast spiking neurons\". \n",
    "* `dat['%X%_passive']`: same as above for `X` = {`spks`, `pupil`, `wheel`, `contrast_left`, `contrast_right`} but for  passive trials at the end of the recording when the mouse was no longer engaged and stopped making responses. \n",
    "* `dat['prev_reward']`: time of the feedback (reward/white noise) on the previous trial in relation to the current stimulus time. \n",
    "* `dat['reaction_time']`: ntrials by 2. First column: reaction time computed from the wheel movement as the first sample above `5` ticks/10ms bin. Second column: direction of the wheel movement (`0` = no move detected).  \n",
    "\n",
    "\n"
   ]
  },
  {
   "cell_type": "markdown",
   "metadata": {},
   "source": [
    "# Neural encoding of wheel turning\n",
    "\n",
    "In the following exercises, we'll use multivariate regression to relate neuron firing to the mouse's behavior."
   ]
  },
  {
   "cell_type": "code",
   "execution_count": 9,
   "metadata": {},
   "outputs": [
    {
     "name": "stdout",
     "output_type": "stream",
     "text": [
      "(n_trials, n_timesteps):  (214, 250)\n"
     ]
    }
   ],
   "source": [
    "# The following 2D array has the wheel turning speed from each trial at each timestep:\n",
    "wheel_speed = dat['wheel'][0,:,:]\n",
    "\n",
    "# For later convenience, extract the numbers of trials and timesteps:\n",
    "(n_trials, n_timesteps) = np.shape(wheel_speed)\n",
    "print('(n_trials, n_timesteps): ', (n_trials, n_timesteps))"
   ]
  },
  {
   "cell_type": "markdown",
   "metadata": {},
   "source": [
    "**Exercise 4**\n",
    "\n",
    "Make a plot of the wheel speed as a function of time for the first ten trials. Make sure that the x axis is correctly labelled, with time in seconds.\n",
    "\n"
   ]
  },
  {
   "cell_type": "code",
   "execution_count": 10,
   "metadata": {},
   "outputs": [],
   "source": [
    "### Your code here ###"
   ]
  },
  {
   "cell_type": "markdown",
   "metadata": {},
   "source": [
    "In the above plot, you should notice that there isn't much turning before the cue turns on at 500ms. In many trials, there's also not much turning toward the end of the trial, after the mouse has registered its response. Let's calculate the mean response time across trials and the timebin in which it occurs."
   ]
  },
  {
   "cell_type": "code",
   "execution_count": 11,
   "metadata": {},
   "outputs": [
    {
     "name": "stdout",
     "output_type": "stream",
     "text": [
      "mean response time in seconds:  1.5890609282309043\n",
      "time bin:  158\n"
     ]
    }
   ],
   "source": [
    "print('mean response time in seconds: ', np.mean(dat['response_time']))\n",
    "\n",
    "dt = dat['bin_size']  # duration of each time bin (i.e. 10ms--see the data description above)\n",
    "response_timebin = int(np.mean(dat['response_time'])/dt)\n",
    "\n",
    "print('time bin: ', response_timebin)"
   ]
  },
  {
   "cell_type": "markdown",
   "metadata": {},
   "source": [
    "Now let's average the wheel turning speed from each trial over the time window between the cue and the average time the response was registered and plot a histogram of the average turning speeds from different trials."
   ]
  },
  {
   "cell_type": "code",
   "execution_count": 12,
   "metadata": {},
   "outputs": [
    {
     "data": {
      "text/plain": [
       "Text(0, 0.5, 'Count')"
      ]
     },
     "execution_count": 12,
     "metadata": {},
     "output_type": "execute_result"
    },
    {
     "data": {
      "image/png": "[encoded data removed]",
      "text/plain": [
       "<Figure size 432x288 with 1 Axes>"
      ]
     },
     "metadata": {
      "needs_background": "light"
     },
     "output_type": "display_data"
    }
   ],
   "source": [
    "cue_timebin = 50\n",
    "wheel_speed_avg = np.mean(wheel_speed[:,cue_timebin:response_timebin], axis=1) \n",
    "\n",
    "# Plot the data:\n",
    "plt.hist(wheel_speed_avg, bins=10)\n",
    "plt.xlabel('Wheel speed (a.u.)')\n",
    "plt.ylabel('Count')"
   ]
  },
  {
   "cell_type": "markdown",
   "metadata": {},
   "source": [
    "Because it looks like there are a lot of trials in which the mouse doesn't move the wheel at all, let's use the mask defined below to create a new array, `wheel_speed_moving`, which only keeps the trials in which the absolute value of the wheel speed is >0.1. We can also make a histogram of this data and print the number of trials that it contains."
   ]
  },
  {
   "cell_type": "code",
   "execution_count": 13,
   "metadata": {},
   "outputs": [
    {
     "name": "stdout",
     "output_type": "stream",
     "text": [
      "Number of trials with wheel movement:  139\n"
     ]
    },
    {
     "data": {
      "text/plain": [
       "Text(0, 0.5, 'Count')"
      ]
     },
     "execution_count": 13,
     "metadata": {},
     "output_type": "execute_result"
    },
    {
     "data": {
      "image/png": "[encoded data removed]",
      "text/plain": [
       "<Figure size 432x288 with 1 Axes>"
      ]
     },
     "metadata": {
      "needs_background": "light"
     },
     "output_type": "display_data"
    }
   ],
   "source": [
    "mask_moving = abs(wheel_speed_avg) > 0.1\n",
    "\n",
    "wheel_speed_moving = wheel_speed_avg[mask_moving]\n",
    "print('Number of trials with wheel movement: ', len(wheel_speed_moving))\n",
    "\n",
    "# Plot the data:\n",
    "plt.hist(wheel_speed_moving)\n",
    "plt.xlabel('Wheel speed')\n",
    "plt.ylabel('Count')"
   ]
  },
  {
   "cell_type": "markdown",
   "metadata": {},
   "source": [
    "In what follows we'll use `wheel_speed_moving` for multivariate regression, relating this data to the firing rates of neurons in different brain areas. Let's next look at a list of the brain areas from which the neurons were recorded."
   ]
  },
  {
   "cell_type": "code",
   "execution_count": 14,
   "metadata": {},
   "outputs": [
    {
     "data": {
      "text/plain": [
       "array(['ACA', 'MOs', 'ACA', 'LS', 'MOs', 'ACA', 'root', 'MOs', 'MOs',\n",
       "       'LS', 'LS', 'LS', 'MOs', 'LS', 'LS', 'LS', 'ACA', 'MOs', 'ACA',\n",
       "       'MOs'], dtype='<U4')"
      ]
     },
     "execution_count": 14,
     "metadata": {},
     "output_type": "execute_result"
    }
   ],
   "source": [
    "# Each entry in the array below is the brain area from which a neuron was recorded.\n",
    "\n",
    "dat['brain_area'][:20]  # brain areas for the first 20 neurons"
   ]
  },
  {
   "cell_type": "markdown",
   "metadata": {},
   "source": [
    "Now we'll make a list of all of the brain areas in which 30 or more neurons were recorded. We can make a list out of this and use the `.count()` method to count the number of occurrences of an item in a list."
   ]
  },
  {
   "cell_type": "code",
   "execution_count": 15,
   "metadata": {},
   "outputs": [
    {
     "name": "stdout",
     "output_type": "stream",
     "text": [
      "['LS', 'DG', 'SUB', 'MOs', 'CA3', 'ACA', 'VISp']\n"
     ]
    }
   ],
   "source": [
    "n_min = 30  # keep brain areas with at least this many neurons\n",
    "area_list = []\n",
    "for area in set(dat['brain_area']):\n",
    "    if list(dat['brain_area']).count(area) > n_min:\n",
    "        area_list.append(area)   \n",
    "print(area_list)"
   ]
  },
  {
   "cell_type": "markdown",
   "metadata": {},
   "source": [
    "Translation of some of these:\n",
    "- CA3: Part of hippocampus\n",
    "- DG: Dentate gyrus (another part of hippocampus)\n",
    "- VISp: Primary visual cortex\n",
    "- MOs: Secondary motor area\n",
    "\n",
    "Brain areas may differ depending on which recording session was chosen above."
   ]
  },
  {
   "cell_type": "markdown",
   "metadata": {},
   "source": [
    "As explained above, the spiking data is in `dat['spikes']`, which is a 3D array. It is organized so that `dat[spikes][i,j,k]` is the number of spikes emitted by neuron `i` in trial `j` at timestep `k`. Next we will get the spiking data from the first 30 neurons in one particular brain area and average the data over the same time window that we did in Exercise 5 above."
   ]
  },
  {
   "cell_type": "code",
   "execution_count": 16,
   "metadata": {},
   "outputs": [],
   "source": [
    "# Get all of the spiking data from just one brain area:\n",
    "area = 'MOs'\n",
    "mask_area = dat['brain_area']==area\n",
    "spikes = dat['spks'][mask_area,:,:]\n",
    "\n",
    "# Use the same mask as above to keep only trials in which the wheel was moving:\n",
    "spikes = spikes[:,mask_moving]\n",
    "\n",
    "# Keep just the first 30 neurons:\n",
    "spikes = spikes[:n_min,:,:]\n",
    "\n",
    "n_neurons, n_trials, n_timesteps = np.shape(spikes)\n",
    "\n",
    "# Make a new array of spiking data, where the data is averaged over time as we did for the wheel speed data:\n",
    "spikes_avg = np.mean(spikes[:,:,cue_timebin:response_timebin], axis=2)"
   ]
  },
  {
   "cell_type": "markdown",
   "metadata": {},
   "source": [
    "We can plot a histogram of the trial-averaged neural activity, where each count in the histogram is one neuron."
   ]
  },
  {
   "cell_type": "code",
   "execution_count": 17,
   "metadata": {},
   "outputs": [
    {
     "data": {
      "text/plain": [
       "Text(0, 0.5, 'Count')"
      ]
     },
     "execution_count": 17,
     "metadata": {},
     "output_type": "execute_result"
    },
    {
     "data": {
      "image/png": "[encoded data removed]",
      "text/plain": [
       "<Figure size 432x288 with 1 Axes>"
      ]
     },
     "metadata": {
      "needs_background": "light"
     },
     "output_type": "display_data"
    }
   ],
   "source": [
    "plt.hist(np.mean(spikes_avg, axis=1), bins=100)  # use narrow bins since lots of firing rates are close to zero\n",
    "plt.xlabel('Spikes per timebin')\n",
    "plt.ylabel('Count')"
   ]
  },
  {
   "cell_type": "markdown",
   "metadata": {},
   "source": [
    "**Exercise 5**\n",
    "\n",
    "Copy the above block of code below and modify it to create a function `spks(area)`, where the input to the function is one of the strings denoting a brain area from `area_list` that we defined above, and the function returns `spikes_avg`, a 2D array with the time averaged activity (averaged over the same time window as we used above) for each neuron in that brain area and in each trial."
   ]
  },
  {
   "cell_type": "code",
   "execution_count": 18,
   "metadata": {},
   "outputs": [],
   "source": [
    "### Your code here ###"
   ]
  },
  {
   "cell_type": "markdown",
   "metadata": {},
   "source": [
    "Next we'll fit a multivariate regression model to predict the wheel speed from the neural activity in this area. The $r^2$ value tells us how good our fit is, where $r^2=1$ would be a perfect fit. Here we'll use the function `LinearRegression()` to do the fit since it allows us to do regression with more than one variable. We'll use the function we just created to get the time-averaged spiking data from this area."
   ]
  },
  {
   "cell_type": "code",
   "execution_count": 19,
   "metadata": {},
   "outputs": [
    {
     "name": "stdout",
     "output_type": "stream",
     "text": [
      "MOs r-squared:  0.6308410864227549\n"
     ]
    }
   ],
   "source": [
    "from sklearn import linear_model\n",
    "\n",
    "# Uncomment the following line after you have completed Exercise 5:\n",
    "#spikes_avg = spks('MOs')  # use the function we just defined to get the time-averaged spiking activity\n",
    "\n",
    "regr = linear_model.LinearRegression()  # regr is an object that does linear regression\n",
    "\n",
    "# Formally, regr is an instance of a class, which is a collection of functions and variables.\n",
    "# fit() and score() are two functions that belong to regr. The .T below switches rows and columns, \n",
    "# since the function wants the input to be an n_trials by n_neurons array:\n",
    "regr.fit(spikes_avg.T, wheel_speed_moving)  # fit the data\n",
    "r_squared = regr.score(spikes_avg.T, wheel_speed_moving)  # get the r-squared value\n",
    "\n",
    "print(area + ' r-squared: ', r_squared)"
   ]
  },
  {
   "cell_type": "markdown",
   "metadata": {},
   "source": [
    "**Exercise 6**\n",
    "\n",
    "Copy and adapt the code from the previous cell, creating a for loop to compute $r^2$ for predicting the wheel speed from neural activity just as above, but now for multiple brain areas. Each iteration of the for loop should compute $r^2$ using the first 30 neurons in one of the brain areas for which there are 30 or more neurons recorded. Recall that we previously identified these brain areas and put them into the list `area_list`. Print the brain areas together with the $r^2$ value for each brain area."
   ]
  },
  {
   "cell_type": "code",
   "execution_count": 20,
   "metadata": {},
   "outputs": [],
   "source": [
    "### Your code here ###"
   ]
  },
  {
   "cell_type": "markdown",
   "metadata": {},
   "source": [
    "These values look pretty good, but looks can be deceiving, as we show in the next exercise.\n",
    "\n",
    "**Exercise 7**\n",
    "\n",
    "Repeat the above exercise, but with the data split into training and testing sets. Use the first 80% of trials as training data and the last 20% as testing data. (To make this easier, this is done for the wheel speed data in the first block of code below. You'll have to do the same thing with the spiking data in your solution.) Use the training sets of wheel speed and spiking data to train the regression model with `regr.fit()` and the testing sets to compute $r^2$ using `regr.score()`. (If you don't feel confident that you got the previous exercise right, try doing this just for the one brain area that we analyzed right before Exercise 8.)"
   ]
  },
  {
   "cell_type": "code",
   "execution_count": 21,
   "metadata": {},
   "outputs": [],
   "source": [
    "# Split the wheel speed data into training and testing sets:\n",
    "n_trials = len(wheel_speed_moving)\n",
    "wheel_speed_train = wheel_speed_moving[:int(0.6*n_trials)]\n",
    "wheel_speed_test = wheel_speed_moving[int(0.6*n_trials):]"
   ]
  },
  {
   "cell_type": "code",
   "execution_count": 22,
   "metadata": {},
   "outputs": [],
   "source": [
    "### Your code here ###"
   ]
  },
  {
   "cell_type": "markdown",
   "metadata": {},
   "source": [
    "Because the performance on the testing data is in many cases much worse than the performance on the training data, it looks like the model is overfitting. As we discussed in class, two ways to prevent overfitting are **regularization**, which tries to keep parameters small, and **cross-validation**, which uses the performance on testing data to determine fitting parameters like the strength of the regularization. In the next exercise, we use a fitting method that incorporates both of these.\n",
    "\n",
    "**Exercise 8**\n",
    "\n",
    "Repeat the previous exercise, but now use `RidgeCV()` rather than `LinearRegression()` to perform the fit. You should find that the performance is better for the testing data that was not used to train the model. (Again, if you aren't confident that you got Exercise 8 right, you can do this for just the one brain area that we analyzed right before Exercise 8.)"
   ]
  },
  {
   "cell_type": "code",
   "execution_count": 23,
   "metadata": {},
   "outputs": [],
   "source": [
    "### Your code here ###"
   ]
  },
  {
   "cell_type": "markdown",
   "metadata": {},
   "source": [
    "**Exercise 9**\n",
    "\n",
    "In this exercise, you will start planning an approach for your final project by having a dialog with your favorite AI chatbot. Please start with the prompt below and use your conversation with the AI to realize the stated goals of (i) having one or more well defined scientific questions that could be answered using the dataset, (ii) a hypothesis formulated about each question, and (iii) a plan about which analyses to perform to test the hypothesis. As a separate PDF file(s), submit the transcript of your conversation along with a summary of the questions, hypotheses, and analyses that meet goals (i)-(iii) above.\n",
    "\n",
    "> I'm an undergraduate student taking a class on techniques for analyzing neural data. For my final project in the course, I will be analyzing a dataset consisting of neural population activity from mice in response to various visual stimuli, including oriented gratings, drifting gratings, Gabor patches, and natural images, as well as spontaneous activity. I will need to come up with one or two scientific questions to ask that could be answered with this data, as well as a plan for which analyses to perform in order to draw conclusions from the data. Without suggesting explicitly what I should do, I'd like you to help me think through an approach for my project in a Socratic manner. At the end of our dialog, I'd like to have one or more well defined scientific questions that could be answered using this dataset, a hypothesis formulated about each one, and a plan about which analyses to perform in order to test the hypothesis. To begin, is there any additional information you need to know about the dataset, or would you like to discuss which analysis techniques I'm learning about (e.g. from the course syllabus) in the course that I might be able to apply?"
   ]
  },
  {
   "cell_type": "code",
   "execution_count": null,
   "metadata": {},
   "outputs": [],
   "source": []
  }
 ],
 "metadata": {
  "kernelspec": {
   "display_name": "Python [conda env:base] *",
   "language": "python",
   "name": "conda-base-py"
  },
  "language_info": {
   "codemirror_mode": {
    "name": "ipython",
    "version": 3
   },
   "file_extension": ".py",
   "mimetype": "text/x-python",
   "name": "python",
   "nbconvert_exporter": "python",
   "pygments_lexer": "ipython3",
   "version": "3.12.7"
  }
 },
 "nbformat": 4,
 "nbformat_minor": 4
}
